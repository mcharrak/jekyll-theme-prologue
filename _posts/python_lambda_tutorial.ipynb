{
 "cells": [
  {
   "cell_type": "markdown",
   "metadata": {},
   "source": [
    "# Python Lambda Functions\n",
    "\n",
    "#### In this tutorial we will explore what lambda functions are and how to use them."
   ]
  },
  {
   "cell_type": "markdown",
   "metadata": {},
   "source": [
    "A Python lambda is just the pythonic way of a function. A lambda function has the following basic syntax:\n",
    "\n",
    "                             lambda arguments : expression"
   ]
  },
  {
   "cell_type": "markdown",
   "metadata": {},
   "source": [
    "We are already familiar with the \"classical\" way of defining functions in Python such as:"
   ]
  },
  {
   "cell_type": "code",
   "execution_count": 26,
   "metadata": {},
   "outputs": [],
   "source": [
    "def square(x):\n",
    "    return (x*x)\n",
    "\n",
    "def square_vals(list_of_vals):\n",
    "    for (idx, val) in enumerate(list_of_vals):\n",
    "        list_of_vals[idx] = square(val)\n",
    "    return (list_of_vals)"
   ]
  },
  {
   "cell_type": "markdown",
   "metadata": {},
   "source": [
    "Which we then can use as follows:"
   ]
  },
  {
   "cell_type": "code",
   "execution_count": 32,
   "metadata": {},
   "outputs": [
    {
     "name": "stdout",
     "output_type": "stream",
     "text": [
      "25\n",
      "[1, 4, 9, 16, 25]\n"
     ]
    }
   ],
   "source": [
    "vals = [1,2,3,4,5]\n",
    "\n",
    "squared_val = square(vals[-1])\n",
    "print(squared_val)\n",
    "\n",
    "squared_vals = square_vals(vals)\n",
    "print(squared_vals)"
   ]
  },
  {
   "cell_type": "markdown",
   "metadata": {},
   "source": [
    "Now, lambda is just another way of defining such a function. The lambda function can take any number of inputs/arguments but it can only have one expression. Lambda returns the evaluated expression for the arguments it received.\n",
    "\n",
    "Now, let us define the same functions as above but using the lambda method:"
   ]
  },
  {
   "cell_type": "code",
   "execution_count": 28,
   "metadata": {},
   "outputs": [],
   "source": [
    "lambda_square = lambda x : x*x"
   ]
  },
  {
   "cell_type": "markdown",
   "metadata": {},
   "source": [
    "Next we need to define a lambda function which takes as argument/input a list - and then operates on each item in that list. For that, we will have to make use of the python built-in function: map. Map is has two arguments:\n",
    "\n",
    "1. a *function* and\n",
    "2. a *sequence/list*"
   ]
  },
  {
   "cell_type": "markdown",
   "metadata": {},
   "source": [
    "What it then does is to apply/call the function on every item in the list. So we do the following to square all items in our list using our already defined lambda function for squaring a single value:"
   ]
  },
  {
   "cell_type": "code",
   "execution_count": 37,
   "metadata": {},
   "outputs": [
    {
     "name": "stdout",
     "output_type": "stream",
     "text": [
      "[1, 4, 9, 16, 25]\n"
     ]
    }
   ],
   "source": [
    "vals = [1,2,3,4,5]\n",
    "\n",
    "squared_vals = list( map(lambda_square, vals) )\n",
    "# we apply list() on the output of the map function because compared to Python 2, in\n",
    "# Python 3 map() returns a map object and not a list (as it was previously in Python 2).\n",
    "print(squared_vals)"
   ]
  },
  {
   "cell_type": "markdown",
   "metadata": {},
   "source": [
    "The last questions we need to answer is:\n",
    "    \n",
    "    Why do we even need lambda functions if we can do the same with regular functions as above.\n",
    "\n",
    "Lambda function are useful, when we need to define a function that we are not planning to use more than once, so in effect we think of it as a one-off function. Such a one-time-use function is formally knonw as: **anonymous function**."
   ]
  },
  {
   "cell_type": "markdown",
   "metadata": {},
   "source": [
    "Finally lets see how we can\n",
    "\n",
    "1. define a lambda function with *more than one argument*\n",
    "2. define a lambda function with *zero arguments*"
   ]
  },
  {
   "cell_type": "code",
   "execution_count": 48,
   "metadata": {},
   "outputs": [],
   "source": [
    "#1. MORE THAN ONE ARGUMENT\n",
    "f1_is_right_angled_triangle = lambda a,b,c : (c**2 == a**2 + b**2)"
   ]
  },
  {
   "cell_type": "code",
   "execution_count": 51,
   "metadata": {},
   "outputs": [
    {
     "name": "stdout",
     "output_type": "stream",
     "text": [
      "True\n",
      "False\n"
     ]
    }
   ],
   "source": [
    "# lets test two triangles\n",
    "# Triangle 1 with sides a=3,b=4,c=5\n",
    "print(f1_is_right_angled_triangle(a=3,b=4,c=5))\n",
    "# Triangle 1 with sides a=4,b=5,c=6\n",
    "print(f1_is_right_angled_triangle(a=4,b=5,c=6))"
   ]
  },
  {
   "cell_type": "code",
   "execution_count": 54,
   "metadata": {},
   "outputs": [],
   "source": [
    "#2. NO/ZERO ARGUMENTS\n",
    "f2_false = lambda : 1==3"
   ]
  },
  {
   "cell_type": "code",
   "execution_count": 55,
   "metadata": {},
   "outputs": [
    {
     "name": "stdout",
     "output_type": "stream",
     "text": [
      "False\n"
     ]
    }
   ],
   "source": [
    "print(f2_false())"
   ]
  },
  {
   "cell_type": "markdown",
   "metadata": {},
   "source": [
    "That's it. I hope these examples have helped you to understand how we can use lambda functions in Python and when they can be helpful. If you have questions or ideas, please feel free to drop me a message."
   ]
  }
 ],
 "metadata": {
  "kernelspec": {
   "display_name": "Python 3",
   "language": "python",
   "name": "python3"
  },
  "language_info": {
   "codemirror_mode": {
    "name": "ipython",
    "version": 3
   },
   "file_extension": ".py",
   "mimetype": "text/x-python",
   "name": "python",
   "nbconvert_exporter": "python",
   "pygments_lexer": "ipython3",
   "version": "3.7.4"
  }
 },
 "nbformat": 4,
 "nbformat_minor": 4
}
